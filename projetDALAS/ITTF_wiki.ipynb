{
 "cells": [
  {
   "cell_type": "code",
   "execution_count": 2,
   "metadata": {},
   "outputs": [
    {
     "ename": "ModuleNotFoundError",
     "evalue": "No module named 'lxml'",
     "output_type": "error",
     "traceback": [
      "\u001b[0;31m---------------------------------------------------------------------------\u001b[0m",
      "\u001b[0;31mModuleNotFoundError\u001b[0m                       Traceback (most recent call last)",
      "Cell \u001b[0;32mIn[2], line 2\u001b[0m\n\u001b[1;32m      1\u001b[0m \u001b[38;5;28;01mimport\u001b[39;00m \u001b[38;5;21;01mbs4\u001b[39;00m\n\u001b[0;32m----> 2\u001b[0m \u001b[38;5;28;01mimport\u001b[39;00m \u001b[38;5;21;01mlxml\u001b[39;00m\n\u001b[1;32m      3\u001b[0m \u001b[38;5;28;01mimport\u001b[39;00m \u001b[38;5;21;01mpandas\u001b[39;00m\n\u001b[1;32m      4\u001b[0m \u001b[38;5;28;01mimport\u001b[39;00m \u001b[38;5;21;01murllib\u001b[39;00m\n",
      "\u001b[0;31mModuleNotFoundError\u001b[0m: No module named 'lxml'"
     ]
    }
   ],
   "source": [
    "import bs4\n",
    "import lxml\n",
    "import pandas\n",
    "import urllib\n",
    "import pandas as pd\n",
    "import re\n",
    "\n",
    "from urllib import request"
   ]
  },
  {
   "cell_type": "markdown",
   "metadata": {},
   "source": [
    "### Automatize the creation of separate tables as dataframe"
   ]
  },
  {
   "cell_type": "code",
   "execution_count": 1,
   "metadata": {},
   "outputs": [
    {
     "ename": "NameError",
     "evalue": "name 'request' is not defined",
     "output_type": "error",
     "traceback": [
      "\u001b[0;31m---------------------------------------------------------------------------\u001b[0m",
      "\u001b[0;31mNameError\u001b[0m                                 Traceback (most recent call last)",
      "Cell \u001b[0;32mIn[1], line 5\u001b[0m\n\u001b[1;32m      2\u001b[0m ranking \u001b[38;5;241m=\u001b[39m \u001b[38;5;124m\"\u001b[39m\u001b[38;5;124mhttps://fr.wikipedia.org/wiki/Classement_mondial_ITTF\u001b[39m\u001b[38;5;124m\"\u001b[39m\n\u001b[1;32m      4\u001b[0m \u001b[38;5;66;03m# Fetch and parse the web page\u001b[39;00m\n\u001b[0;32m----> 5\u001b[0m request_text \u001b[38;5;241m=\u001b[39m \u001b[43mrequest\u001b[49m\u001b[38;5;241m.\u001b[39murlopen(ranking)\u001b[38;5;241m.\u001b[39mread()\n\u001b[1;32m      6\u001b[0m soup \u001b[38;5;241m=\u001b[39m bs4\u001b[38;5;241m.\u001b[39mBeautifulSoup(request_text, \u001b[38;5;124m\"\u001b[39m\u001b[38;5;124mlxml\u001b[39m\u001b[38;5;124m\"\u001b[39m)\n\u001b[1;32m      8\u001b[0m \u001b[38;5;66;03m# Find all tables on the page\u001b[39;00m\n",
      "\u001b[0;31mNameError\u001b[0m: name 'request' is not defined"
     ]
    }
   ],
   "source": [
    "# URL of the Wikipedia page containing the tables\n",
    "ranking = \"https://fr.wikipedia.org/wiki/Classement_mondial_ITTF\"\n",
    "\n",
    "# Fetch and parse the web page\n",
    "request_text = request.urlopen(ranking).read()\n",
    "soup = bs4.BeautifulSoup(request_text, \"lxml\")\n",
    "\n",
    "# Find all tables on the page\n",
    "tables = soup.find_all(\"table\")\n",
    "\n",
    "# Loop to process and export each table\n",
    "for idx, table in enumerate(tables, start=1):\n",
    "    # Identify the title of the table (if available)\n",
    "    caption = table.find(\"caption\").get_text(strip=True) if table.find(\"caption\") else f\"Table_{idx}\"\n",
    "    print(f\"Processing Table {idx}, Title: {caption}\")\n",
    "    \n",
    "    # Clean the caption: remove the part [number] and keep the relevant part before it\n",
    "    cleaned_caption = re.sub(r\"\\[.*?\\]\", \"\", caption).strip()  # Remove [number] and any extra spaces\n",
    "\n",
    "    # Extract data from the table\n",
    "    rows = table.find_all(\"tr\")\n",
    "    data = []\n",
    "    for row in rows:\n",
    "        # Collect all cells (both th and td for headers and data)\n",
    "        cells = row.find_all([\"th\", \"td\"])\n",
    "        cell_data = [cell.get_text(strip=True) for cell in cells]\n",
    "        if cell_data:\n",
    "            data.append(cell_data)\n",
    "\n",
    "    if not data:\n",
    "        print(f\"Table {idx} is empty or improperly structured. Skipping.\")\n",
    "        continue\n",
    "\n",
    "    # Dynamically generate headers\n",
    "    headers = data[0]  # Use the first row as headers\n",
    "    data = data[1:]  # Remaining rows are data\n",
    "\n",
    "    # Ensure headers and data alignment\n",
    "    max_columns = max(len(row) for row in data)\n",
    "    if len(headers) < max_columns:\n",
    "        headers += [f\"Colonne {i+1}\" for i in range(len(headers), max_columns)]  # Pad missing headers\n",
    "    elif len(headers) > max_columns:\n",
    "        headers = headers[:max_columns]  # Truncate excess headers\n",
    "\n",
    "    # Create DataFrame and clean out header duplication if necessary\n",
    "    try:\n",
    "        df = pd.DataFrame(data, columns=headers)  # Exclude header row if present in data\n",
    "    except ValueError as e:\n",
    "        print(f\"Error creating DataFrame for Table {idx}: {e}\")\n",
    "        continue  # Skip problematic tables\n",
    "\n",
    "    # Display the first 5 rows as a preview\n",
    "    print(df.head(5))\n",
    "\n",
    "    # Export DataFrame to a CSV file\n",
    "    output_file = f\"{cleaned_caption.replace(' ', '_')}.csv\"\n",
    "    df.to_csv(output_file, index=False, encoding=\"utf-8\")\n",
    "    print(f\"Table {idx} exported to {output_file}\\n\")\n",
    "\n",
    "print(\"All tables processed and exported.\")\n"
   ]
  },
  {
   "cell_type": "code",
   "execution_count": null,
   "metadata": {},
   "outputs": [],
   "source": []
  }
 ],
 "metadata": {
  "kernelspec": {
   "display_name": "Python 3",
   "language": "python",
   "name": "python3"
  },
  "language_info": {
   "codemirror_mode": {
    "name": "ipython",
    "version": 3
   },
   "file_extension": ".py",
   "mimetype": "text/x-python",
   "name": "python",
   "nbconvert_exporter": "python",
   "pygments_lexer": "ipython3",
   "version": "3.11.5"
  }
 },
 "nbformat": 4,
 "nbformat_minor": 2
}
